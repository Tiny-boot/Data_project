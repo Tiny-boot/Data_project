{
  "nbformat": 4,
  "nbformat_minor": 0,
  "metadata": {
    "colab": {
      "provenance": []
    },
    "kernelspec": {
      "name": "ir",
      "display_name": "R"
    },
    "language_info": {
      "name": "R"
    }
  },
  "cells": [
    {
      "cell_type": "markdown",
      "source": [
        "https://github.com/petermeissner/wikipediatrend"
      ],
      "metadata": {
        "id": "AgkPAJss2KDq"
      }
    },
    {
      "cell_type": "code",
      "execution_count": null,
      "metadata": {
        "colab": {
          "base_uri": "https://localhost:8080/"
        },
        "id": "uxykUfXtbJ9r",
        "outputId": "7df0fa88-2ace-47e8-b500-2d28e4a9e959"
      },
      "outputs": [
        {
          "output_type": "stream",
          "name": "stderr",
          "text": [
            "Installing package into ‘/usr/local/lib/R/site-library’\n",
            "(as ‘lib’ is unspecified)\n",
            "\n",
            "Loading required package: usethis\n",
            "\n",
            "Downloading GitHub repo petermeissner/wikipediatrend@HEAD\n",
            "\n"
          ]
        },
        {
          "output_type": "stream",
          "name": "stdout",
          "text": [
            "hellno    (NA -> 0.0.1) [CRAN]\n",
            "pageviews (NA -> 0.6.0) [CRAN]\n"
          ]
        },
        {
          "output_type": "stream",
          "name": "stderr",
          "text": [
            "Installing 2 packages: hellno, pageviews\n",
            "\n",
            "Installing packages into ‘/usr/local/lib/R/site-library’\n",
            "(as ‘lib’ is unspecified)\n",
            "\n"
          ]
        },
        {
          "output_type": "stream",
          "name": "stdout",
          "text": [
            "\u001b[36m──\u001b[39m \u001b[36mR CMD build\u001b[39m \u001b[36m─────────────────────────────────────────────────────────────────\u001b[39m\n",
            "* checking for file ‘/tmp/RtmprxX2N0/remotes1cc43faeb7a/petermeissner-wikipediatrend-1ec7100/DESCRIPTION’ ... OK\n",
            "* preparing ‘wikipediatrend’:\n",
            "* checking DESCRIPTION meta-information ... OK\n",
            "* checking for LF line-endings in source and make files and shell scripts\n",
            "* checking for empty or unneeded directories\n",
            "* building ‘wikipediatrend_2.1.6.tar.gz’\n",
            "\n"
          ]
        },
        {
          "output_type": "stream",
          "name": "stderr",
          "text": [
            "Installing package into ‘/usr/local/lib/R/site-library’\n",
            "(as ‘lib’ is unspecified)\n",
            "\n"
          ]
        }
      ],
      "source": [
        "install.packages(\"devtools\")\n",
        "library(devtools)\n",
        "install_github(\"petermeissner/wikipediatrend\")\n",
        "\n"
      ]
    },
    {
      "cell_type": "code",
      "source": [
        "library(wikipediatrend)"
      ],
      "metadata": {
        "colab": {
          "base_uri": "https://localhost:8080/"
        },
        "id": "nkuEFUMwyeiy",
        "outputId": "0bf05c0d-242d-40d4-accb-39ef836b7499"
      },
      "execution_count": null,
      "outputs": [
        {
          "output_type": "stream",
          "name": "stderr",
          "text": [
            "\n",
            "  [wikipediatrend]\n",
            "    \n",
            "  Note:\n",
            "    \n",
            "    - Data before 2016-01-01 \n",
            "      * is provided by petermeissner.de and\n",
            "      * was prepared in a project commissioned by the Hertie School of Governance (Prof. Dr. Simon Munzert)\n",
            "      * and supported by the Daimler and Benz Foundation.\n",
            "    \n",
            "    - Data from 2016-01-01 onwards \n",
            "      * is provided by the Wikipedia Foundation\n",
            "      * via its pageviews package and API.\n",
            "    \n",
            "\n"
          ]
        }
      ]
    },
    {
      "cell_type": "code",
      "source": [
        "trend_data <-\n",
        "  wp_trend(\n",
        "    page = c(\"Antibody\"),\n",
        "    lang = c(\"en\"),\n",
        "    from = \"2007-01-01\",\n",
        "    to   = Sys.Date()\n",
        "  )"
      ],
      "metadata": {
        "id": "UpXt4KsVyiSp"
      },
      "execution_count": null,
      "outputs": []
    },
    {
      "cell_type": "code",
      "source": [
        "trend_data"
      ],
      "metadata": {
        "colab": {
          "base_uri": "https://localhost:8080/",
          "height": 1000
        },
        "id": "iSOU3xNMymGe",
        "outputId": "a362f35b-a1eb-43be-cfae-c758eb32bcb7"
      },
      "execution_count": null,
      "outputs": [
        {
          "output_type": "display_data",
          "data": {
            "text/html": [
              "<table class=\"dataframe\">\n",
              "<caption>A wp_df: 6202 × 4</caption>\n",
              "<thead>\n",
              "\t<tr><th></th><th scope=col>language</th><th scope=col>article</th><th scope=col>date</th><th scope=col>views</th></tr>\n",
              "\t<tr><th></th><th scope=col>&lt;chr&gt;</th><th scope=col>&lt;chr&gt;</th><th scope=col>&lt;date&gt;</th><th scope=col>&lt;dbl&gt;</th></tr>\n",
              "</thead>\n",
              "<tbody>\n",
              "\t<tr><th scope=row>1462</th><td>en</td><td>antibody</td><td>2007-12-10</td><td>2686</td></tr>\n",
              "\t<tr><th scope=row>1463</th><td>en</td><td>antibody</td><td>2007-12-11</td><td>2631</td></tr>\n",
              "\t<tr><th scope=row>1464</th><td>en</td><td>antibody</td><td>2007-12-12</td><td>2649</td></tr>\n",
              "\t<tr><th scope=row>1465</th><td>en</td><td>antibody</td><td>2007-12-13</td><td>2587</td></tr>\n",
              "\t<tr><th scope=row>1466</th><td>en</td><td>antibody</td><td>2007-12-14</td><td>1917</td></tr>\n",
              "\t<tr><th scope=row>1467</th><td>en</td><td>antibody</td><td>2007-12-15</td><td>1074</td></tr>\n",
              "\t<tr><th scope=row>1468</th><td>en</td><td>antibody</td><td>2007-12-16</td><td>1310</td></tr>\n",
              "\t<tr><th scope=row>1469</th><td>en</td><td>antibody</td><td>2007-12-17</td><td>1981</td></tr>\n",
              "\t<tr><th scope=row>1470</th><td>en</td><td>antibody</td><td>2007-12-18</td><td>1901</td></tr>\n",
              "\t<tr><th scope=row>1471</th><td>en</td><td>antibody</td><td>2007-12-19</td><td>1720</td></tr>\n",
              "\t<tr><th scope=row>1472</th><td>en</td><td>antibody</td><td>2007-12-20</td><td>1378</td></tr>\n",
              "\t<tr><th scope=row>1473</th><td>en</td><td>antibody</td><td>2007-12-21</td><td>1089</td></tr>\n",
              "\t<tr><th scope=row>1474</th><td>en</td><td>antibody</td><td>2007-12-22</td><td> 593</td></tr>\n",
              "\t<tr><th scope=row>1475</th><td>en</td><td>antibody</td><td>2007-12-23</td><td> 573</td></tr>\n",
              "\t<tr><th scope=row>1476</th><td>en</td><td>antibody</td><td>2007-12-24</td><td> 577</td></tr>\n",
              "\t<tr><th scope=row>1477</th><td>en</td><td>antibody</td><td>2007-12-25</td><td> 475</td></tr>\n",
              "\t<tr><th scope=row>1478</th><td>en</td><td>antibody</td><td>2007-12-26</td><td> 706</td></tr>\n",
              "\t<tr><th scope=row>1479</th><td>en</td><td>antibody</td><td>2007-12-27</td><td> 702</td></tr>\n",
              "\t<tr><th scope=row>1480</th><td>en</td><td>antibody</td><td>2007-12-28</td><td> 843</td></tr>\n",
              "\t<tr><th scope=row>1481</th><td>en</td><td>antibody</td><td>2007-12-29</td><td> 720</td></tr>\n",
              "\t<tr><th scope=row>1482</th><td>en</td><td>antibody</td><td>2007-12-30</td><td> 619</td></tr>\n",
              "\t<tr><th scope=row>1483</th><td>en</td><td>antibody</td><td>2007-12-31</td><td> 662</td></tr>\n",
              "\t<tr><th scope=row>1484</th><td>en</td><td>antibody</td><td>2008-01-01</td><td> 643</td></tr>\n",
              "\t<tr><th scope=row>1485</th><td>en</td><td>antibody</td><td>2008-01-02</td><td>1267</td></tr>\n",
              "\t<tr><th scope=row>1486</th><td>en</td><td>antibody</td><td>2008-01-03</td><td>1443</td></tr>\n",
              "\t<tr><th scope=row>1487</th><td>en</td><td>antibody</td><td>2008-01-04</td><td>1304</td></tr>\n",
              "\t<tr><th scope=row>1488</th><td>en</td><td>antibody</td><td>2008-01-05</td><td> 974</td></tr>\n",
              "\t<tr><th scope=row>1489</th><td>en</td><td>antibody</td><td>2008-01-06</td><td>1075</td></tr>\n",
              "\t<tr><th scope=row>1490</th><td>en</td><td>antibody</td><td>2008-01-07</td><td>1717</td></tr>\n",
              "\t<tr><th scope=row>1491</th><td>en</td><td>antibody</td><td>2008-01-08</td><td>1910</td></tr>\n",
              "\t<tr><th scope=row>⋮</th><td>⋮</td><td>⋮</td><td>⋮</td><td>⋮</td></tr>\n",
              "\t<tr><th scope=row>3229</th><td>en</td><td>antibody</td><td>2024-11-02</td><td> 756</td></tr>\n",
              "\t<tr><th scope=row>3230</th><td>en</td><td>antibody</td><td>2024-11-03</td><td> 785</td></tr>\n",
              "\t<tr><th scope=row>3231</th><td>en</td><td>antibody</td><td>2024-11-04</td><td>1095</td></tr>\n",
              "\t<tr><th scope=row>3232</th><td>en</td><td>antibody</td><td>2024-11-05</td><td>1082</td></tr>\n",
              "\t<tr><th scope=row>3233</th><td>en</td><td>antibody</td><td>2024-11-06</td><td> 986</td></tr>\n",
              "\t<tr><th scope=row>3234</th><td>en</td><td>antibody</td><td>2024-11-07</td><td>1006</td></tr>\n",
              "\t<tr><th scope=row>3235</th><td>en</td><td>antibody</td><td>2024-11-08</td><td>1036</td></tr>\n",
              "\t<tr><th scope=row>3236</th><td>en</td><td>antibody</td><td>2024-11-09</td><td> 776</td></tr>\n",
              "\t<tr><th scope=row>3237</th><td>en</td><td>antibody</td><td>2024-11-10</td><td> 883</td></tr>\n",
              "\t<tr><th scope=row>3238</th><td>en</td><td>antibody</td><td>2024-11-11</td><td>1109</td></tr>\n",
              "\t<tr><th scope=row>3239</th><td>en</td><td>antibody</td><td>2024-11-12</td><td>1139</td></tr>\n",
              "\t<tr><th scope=row>3240</th><td>en</td><td>antibody</td><td>2024-11-13</td><td> 995</td></tr>\n",
              "\t<tr><th scope=row>3241</th><td>en</td><td>antibody</td><td>2024-11-14</td><td>1089</td></tr>\n",
              "\t<tr><th scope=row>3242</th><td>en</td><td>antibody</td><td>2024-11-15</td><td> 975</td></tr>\n",
              "\t<tr><th scope=row>3243</th><td>en</td><td>antibody</td><td>2024-11-16</td><td> 836</td></tr>\n",
              "\t<tr><th scope=row>3244</th><td>en</td><td>antibody</td><td>2024-11-17</td><td>1009</td></tr>\n",
              "\t<tr><th scope=row>3245</th><td>en</td><td>antibody</td><td>2024-11-18</td><td>1169</td></tr>\n",
              "\t<tr><th scope=row>3246</th><td>en</td><td>antibody</td><td>2024-11-19</td><td>1206</td></tr>\n",
              "\t<tr><th scope=row>3247</th><td>en</td><td>antibody</td><td>2024-11-20</td><td>1107</td></tr>\n",
              "\t<tr><th scope=row>3248</th><td>en</td><td>antibody</td><td>2024-11-21</td><td>1181</td></tr>\n",
              "\t<tr><th scope=row>3249</th><td>en</td><td>antibody</td><td>2024-11-22</td><td> 971</td></tr>\n",
              "\t<tr><th scope=row>3250</th><td>en</td><td>antibody</td><td>2024-11-23</td><td> 771</td></tr>\n",
              "\t<tr><th scope=row>3251</th><td>en</td><td>antibody</td><td>2024-11-24</td><td> 829</td></tr>\n",
              "\t<tr><th scope=row>3252</th><td>en</td><td>antibody</td><td>2024-11-25</td><td> 998</td></tr>\n",
              "\t<tr><th scope=row>3253</th><td>en</td><td>antibody</td><td>2024-11-26</td><td>1044</td></tr>\n",
              "\t<tr><th scope=row>3254</th><td>en</td><td>antibody</td><td>2024-11-27</td><td>1136</td></tr>\n",
              "\t<tr><th scope=row>3255</th><td>en</td><td>antibody</td><td>2024-11-28</td><td>1009</td></tr>\n",
              "\t<tr><th scope=row>3256</th><td>en</td><td>antibody</td><td>2024-11-29</td><td> 718</td></tr>\n",
              "\t<tr><th scope=row>3257</th><td>en</td><td>antibody</td><td>2024-11-30</td><td> 722</td></tr>\n",
              "\t<tr><th scope=row>3258</th><td>en</td><td>antibody</td><td>2024-12-01</td><td> 723</td></tr>\n",
              "</tbody>\n",
              "</table>\n"
            ],
            "text/markdown": "\nA wp_df: 6202 × 4\n\n| <!--/--> | language &lt;chr&gt; | article &lt;chr&gt; | date &lt;date&gt; | views &lt;dbl&gt; |\n|---|---|---|---|---|\n| 1462 | en | antibody | 2007-12-10 | 2686 |\n| 1463 | en | antibody | 2007-12-11 | 2631 |\n| 1464 | en | antibody | 2007-12-12 | 2649 |\n| 1465 | en | antibody | 2007-12-13 | 2587 |\n| 1466 | en | antibody | 2007-12-14 | 1917 |\n| 1467 | en | antibody | 2007-12-15 | 1074 |\n| 1468 | en | antibody | 2007-12-16 | 1310 |\n| 1469 | en | antibody | 2007-12-17 | 1981 |\n| 1470 | en | antibody | 2007-12-18 | 1901 |\n| 1471 | en | antibody | 2007-12-19 | 1720 |\n| 1472 | en | antibody | 2007-12-20 | 1378 |\n| 1473 | en | antibody | 2007-12-21 | 1089 |\n| 1474 | en | antibody | 2007-12-22 |  593 |\n| 1475 | en | antibody | 2007-12-23 |  573 |\n| 1476 | en | antibody | 2007-12-24 |  577 |\n| 1477 | en | antibody | 2007-12-25 |  475 |\n| 1478 | en | antibody | 2007-12-26 |  706 |\n| 1479 | en | antibody | 2007-12-27 |  702 |\n| 1480 | en | antibody | 2007-12-28 |  843 |\n| 1481 | en | antibody | 2007-12-29 |  720 |\n| 1482 | en | antibody | 2007-12-30 |  619 |\n| 1483 | en | antibody | 2007-12-31 |  662 |\n| 1484 | en | antibody | 2008-01-01 |  643 |\n| 1485 | en | antibody | 2008-01-02 | 1267 |\n| 1486 | en | antibody | 2008-01-03 | 1443 |\n| 1487 | en | antibody | 2008-01-04 | 1304 |\n| 1488 | en | antibody | 2008-01-05 |  974 |\n| 1489 | en | antibody | 2008-01-06 | 1075 |\n| 1490 | en | antibody | 2008-01-07 | 1717 |\n| 1491 | en | antibody | 2008-01-08 | 1910 |\n| ⋮ | ⋮ | ⋮ | ⋮ | ⋮ |\n| 3229 | en | antibody | 2024-11-02 |  756 |\n| 3230 | en | antibody | 2024-11-03 |  785 |\n| 3231 | en | antibody | 2024-11-04 | 1095 |\n| 3232 | en | antibody | 2024-11-05 | 1082 |\n| 3233 | en | antibody | 2024-11-06 |  986 |\n| 3234 | en | antibody | 2024-11-07 | 1006 |\n| 3235 | en | antibody | 2024-11-08 | 1036 |\n| 3236 | en | antibody | 2024-11-09 |  776 |\n| 3237 | en | antibody | 2024-11-10 |  883 |\n| 3238 | en | antibody | 2024-11-11 | 1109 |\n| 3239 | en | antibody | 2024-11-12 | 1139 |\n| 3240 | en | antibody | 2024-11-13 |  995 |\n| 3241 | en | antibody | 2024-11-14 | 1089 |\n| 3242 | en | antibody | 2024-11-15 |  975 |\n| 3243 | en | antibody | 2024-11-16 |  836 |\n| 3244 | en | antibody | 2024-11-17 | 1009 |\n| 3245 | en | antibody | 2024-11-18 | 1169 |\n| 3246 | en | antibody | 2024-11-19 | 1206 |\n| 3247 | en | antibody | 2024-11-20 | 1107 |\n| 3248 | en | antibody | 2024-11-21 | 1181 |\n| 3249 | en | antibody | 2024-11-22 |  971 |\n| 3250 | en | antibody | 2024-11-23 |  771 |\n| 3251 | en | antibody | 2024-11-24 |  829 |\n| 3252 | en | antibody | 2024-11-25 |  998 |\n| 3253 | en | antibody | 2024-11-26 | 1044 |\n| 3254 | en | antibody | 2024-11-27 | 1136 |\n| 3255 | en | antibody | 2024-11-28 | 1009 |\n| 3256 | en | antibody | 2024-11-29 |  718 |\n| 3257 | en | antibody | 2024-11-30 |  722 |\n| 3258 | en | antibody | 2024-12-01 |  723 |\n\n",
            "text/latex": "A wp\\_df: 6202 × 4\n\\begin{tabular}{r|llll}\n  & language & article & date & views\\\\\n  & <chr> & <chr> & <date> & <dbl>\\\\\n\\hline\n\t1462 & en & antibody & 2007-12-10 & 2686\\\\\n\t1463 & en & antibody & 2007-12-11 & 2631\\\\\n\t1464 & en & antibody & 2007-12-12 & 2649\\\\\n\t1465 & en & antibody & 2007-12-13 & 2587\\\\\n\t1466 & en & antibody & 2007-12-14 & 1917\\\\\n\t1467 & en & antibody & 2007-12-15 & 1074\\\\\n\t1468 & en & antibody & 2007-12-16 & 1310\\\\\n\t1469 & en & antibody & 2007-12-17 & 1981\\\\\n\t1470 & en & antibody & 2007-12-18 & 1901\\\\\n\t1471 & en & antibody & 2007-12-19 & 1720\\\\\n\t1472 & en & antibody & 2007-12-20 & 1378\\\\\n\t1473 & en & antibody & 2007-12-21 & 1089\\\\\n\t1474 & en & antibody & 2007-12-22 &  593\\\\\n\t1475 & en & antibody & 2007-12-23 &  573\\\\\n\t1476 & en & antibody & 2007-12-24 &  577\\\\\n\t1477 & en & antibody & 2007-12-25 &  475\\\\\n\t1478 & en & antibody & 2007-12-26 &  706\\\\\n\t1479 & en & antibody & 2007-12-27 &  702\\\\\n\t1480 & en & antibody & 2007-12-28 &  843\\\\\n\t1481 & en & antibody & 2007-12-29 &  720\\\\\n\t1482 & en & antibody & 2007-12-30 &  619\\\\\n\t1483 & en & antibody & 2007-12-31 &  662\\\\\n\t1484 & en & antibody & 2008-01-01 &  643\\\\\n\t1485 & en & antibody & 2008-01-02 & 1267\\\\\n\t1486 & en & antibody & 2008-01-03 & 1443\\\\\n\t1487 & en & antibody & 2008-01-04 & 1304\\\\\n\t1488 & en & antibody & 2008-01-05 &  974\\\\\n\t1489 & en & antibody & 2008-01-06 & 1075\\\\\n\t1490 & en & antibody & 2008-01-07 & 1717\\\\\n\t1491 & en & antibody & 2008-01-08 & 1910\\\\\n\t⋮ & ⋮ & ⋮ & ⋮ & ⋮\\\\\n\t3229 & en & antibody & 2024-11-02 &  756\\\\\n\t3230 & en & antibody & 2024-11-03 &  785\\\\\n\t3231 & en & antibody & 2024-11-04 & 1095\\\\\n\t3232 & en & antibody & 2024-11-05 & 1082\\\\\n\t3233 & en & antibody & 2024-11-06 &  986\\\\\n\t3234 & en & antibody & 2024-11-07 & 1006\\\\\n\t3235 & en & antibody & 2024-11-08 & 1036\\\\\n\t3236 & en & antibody & 2024-11-09 &  776\\\\\n\t3237 & en & antibody & 2024-11-10 &  883\\\\\n\t3238 & en & antibody & 2024-11-11 & 1109\\\\\n\t3239 & en & antibody & 2024-11-12 & 1139\\\\\n\t3240 & en & antibody & 2024-11-13 &  995\\\\\n\t3241 & en & antibody & 2024-11-14 & 1089\\\\\n\t3242 & en & antibody & 2024-11-15 &  975\\\\\n\t3243 & en & antibody & 2024-11-16 &  836\\\\\n\t3244 & en & antibody & 2024-11-17 & 1009\\\\\n\t3245 & en & antibody & 2024-11-18 & 1169\\\\\n\t3246 & en & antibody & 2024-11-19 & 1206\\\\\n\t3247 & en & antibody & 2024-11-20 & 1107\\\\\n\t3248 & en & antibody & 2024-11-21 & 1181\\\\\n\t3249 & en & antibody & 2024-11-22 &  971\\\\\n\t3250 & en & antibody & 2024-11-23 &  771\\\\\n\t3251 & en & antibody & 2024-11-24 &  829\\\\\n\t3252 & en & antibody & 2024-11-25 &  998\\\\\n\t3253 & en & antibody & 2024-11-26 & 1044\\\\\n\t3254 & en & antibody & 2024-11-27 & 1136\\\\\n\t3255 & en & antibody & 2024-11-28 & 1009\\\\\n\t3256 & en & antibody & 2024-11-29 &  718\\\\\n\t3257 & en & antibody & 2024-11-30 &  722\\\\\n\t3258 & en & antibody & 2024-12-01 &  723\\\\\n\\end{tabular}\n",
            "text/plain": [
              "     language article  date       views\n",
              "1462 en       antibody 2007-12-10 2686 \n",
              "1463 en       antibody 2007-12-11 2631 \n",
              "1464 en       antibody 2007-12-12 2649 \n",
              "1465 en       antibody 2007-12-13 2587 \n",
              "1466 en       antibody 2007-12-14 1917 \n",
              "1467 en       antibody 2007-12-15 1074 \n",
              "1468 en       antibody 2007-12-16 1310 \n",
              "1469 en       antibody 2007-12-17 1981 \n",
              "1470 en       antibody 2007-12-18 1901 \n",
              "1471 en       antibody 2007-12-19 1720 \n",
              "1472 en       antibody 2007-12-20 1378 \n",
              "1473 en       antibody 2007-12-21 1089 \n",
              "1474 en       antibody 2007-12-22  593 \n",
              "1475 en       antibody 2007-12-23  573 \n",
              "1476 en       antibody 2007-12-24  577 \n",
              "1477 en       antibody 2007-12-25  475 \n",
              "1478 en       antibody 2007-12-26  706 \n",
              "1479 en       antibody 2007-12-27  702 \n",
              "1480 en       antibody 2007-12-28  843 \n",
              "1481 en       antibody 2007-12-29  720 \n",
              "1482 en       antibody 2007-12-30  619 \n",
              "1483 en       antibody 2007-12-31  662 \n",
              "1484 en       antibody 2008-01-01  643 \n",
              "1485 en       antibody 2008-01-02 1267 \n",
              "1486 en       antibody 2008-01-03 1443 \n",
              "1487 en       antibody 2008-01-04 1304 \n",
              "1488 en       antibody 2008-01-05  974 \n",
              "1489 en       antibody 2008-01-06 1075 \n",
              "1490 en       antibody 2008-01-07 1717 \n",
              "1491 en       antibody 2008-01-08 1910 \n",
              "⋮    ⋮        ⋮        ⋮          ⋮    \n",
              "3229 en       antibody 2024-11-02  756 \n",
              "3230 en       antibody 2024-11-03  785 \n",
              "3231 en       antibody 2024-11-04 1095 \n",
              "3232 en       antibody 2024-11-05 1082 \n",
              "3233 en       antibody 2024-11-06  986 \n",
              "3234 en       antibody 2024-11-07 1006 \n",
              "3235 en       antibody 2024-11-08 1036 \n",
              "3236 en       antibody 2024-11-09  776 \n",
              "3237 en       antibody 2024-11-10  883 \n",
              "3238 en       antibody 2024-11-11 1109 \n",
              "3239 en       antibody 2024-11-12 1139 \n",
              "3240 en       antibody 2024-11-13  995 \n",
              "3241 en       antibody 2024-11-14 1089 \n",
              "3242 en       antibody 2024-11-15  975 \n",
              "3243 en       antibody 2024-11-16  836 \n",
              "3244 en       antibody 2024-11-17 1009 \n",
              "3245 en       antibody 2024-11-18 1169 \n",
              "3246 en       antibody 2024-11-19 1206 \n",
              "3247 en       antibody 2024-11-20 1107 \n",
              "3248 en       antibody 2024-11-21 1181 \n",
              "3249 en       antibody 2024-11-22  971 \n",
              "3250 en       antibody 2024-11-23  771 \n",
              "3251 en       antibody 2024-11-24  829 \n",
              "3252 en       antibody 2024-11-25  998 \n",
              "3253 en       antibody 2024-11-26 1044 \n",
              "3254 en       antibody 2024-11-27 1136 \n",
              "3255 en       antibody 2024-11-28 1009 \n",
              "3256 en       antibody 2024-11-29  718 \n",
              "3257 en       antibody 2024-11-30  722 \n",
              "3258 en       antibody 2024-12-01  723 "
            ]
          },
          "metadata": {}
        }
      ]
    },
    {
      "cell_type": "code",
      "source": [
        "# Load necessary library\n",
        "library(wikipediatrend)\n",
        "\n",
        "# List of keywords to query\n",
        "keywords <- c('Influenza', '1889–1890 pandemic', 'Viral encephalitis', 'Antibody',\n",
        "              'Acute bronchitis', 'Adamantane', 'Allergic rhinitis',\n",
        "              '1957–1958 influenza pandemic_x', 'Antigenic shift', 'Aspirin',\n",
        "              'Acute exacerbation of chronic obstructive pulmonary disease',\n",
        "              'Paracetamol', '1580 influenza pandemic', 'Spanish flu',\n",
        "              '2017–2018 United States flu season',\n",
        "              '2007 Bernard Matthews H5N1 outbreak', '2006 H5N1 outbreak in India',\n",
        "              '2008 H5N1 outbreak in West Bengal', 'Antigen', '1977 Russian flu',\n",
        "              '2007 Australian equine influenza outbreak', '2020–2023 H5N8 outbreak',\n",
        "              'Arrhythmia', 'Antiviral drug', 'Antigenic drift', 'Adenovirus infection',\n",
        "              '1510 influenza pandemic', '2009 swine flu pandemic', 'Amantadine',\n",
        "              'Aspiration pneumonia', '1957–1958 influenza pandemic_y',\n",
        "              'Antigenic variation', 'Aluminosis', 'Adenoid hypertrophy',\n",
        "              'Acute respiratory distress syndrome', 'Allergic bronchopulmonary aspergillosis',\n",
        "              '2017 Central Luzon H5N6 outbreak', 'Adenoviridae',\n",
        "              '1989–1990 flu epidemic in the United Kingdom', '1557 influenza pandemic',\n",
        "              'Flu', 'Sinusitis', 'Fatigue', 'Feeling cold', 'Bronchitis', 'Pneumonia',\n",
        "              'Headache', 'Congestion', 'Chest pain', 'Soar throat')\n",
        "\n",
        "# Initialize an empty list to store results\n",
        "results_list <- list()\n",
        "\n",
        "# Loop over keywords and handle errors\n",
        "for (keyword in keywords) {\n",
        "  tryCatch({\n",
        "    # Attempt to retrieve pageview data\n",
        "    trend_data <- wp_trend(\n",
        "      page = keyword,\n",
        "      lang = \"en\",\n",
        "      from = \"2007-01-01\",\n",
        "      to = Sys.Date()\n",
        "    )\n",
        "\n",
        "    # If successful, add the result to the list\n",
        "    if (!is.null(trend_data)) {\n",
        "      results_list[[keyword]] <- trend_data\n",
        "    }\n",
        "  }, error = function(e) {\n",
        "    # Skip the keyword on error\n",
        "    message(paste(\"Failed for keyword:\", keyword, \"-\", e$message))\n",
        "  })\n",
        "}\n",
        "\n",
        "# Combine all successful results into a single dataframe\n",
        "results_df <- do.call(rbind, results_list)\n",
        "\n",
        "# Add a column for the keyword (page name)\n",
        "results_df$keyword <- rep(names(results_list), sapply(results_list, nrow))\n",
        "\n",
        "# Save results to a dataframe\n",
        "print(results_df)\n"
      ],
      "metadata": {
        "colab": {
          "base_uri": "https://localhost:8080/"
        },
        "id": "Fj8Jpu_k1HqI",
        "outputId": "bc7c2005-88fa-4f82-a6b6-b6f489c26b50"
      },
      "execution_count": null,
      "outputs": [
        {
          "output_type": "stream",
          "name": "stderr",
          "text": [
            "Warning message in wpd_get_exact(page = page, lang = lang, from = from, to = to, :\n",
            "“Unable to retrieve data for url: http://petermeissner.de:8880/article/exact/en/1889–1890_pandemic. Status: error.”\n",
            "Failed for keyword: 1957–1958 influenza pandemic_x - URL using bad/illegal format or missing URL [petermeissner.de]\n",
            "\n",
            "Failed for keyword: Acute exacerbation of chronic obstructive pulmonary disease - URL using bad/illegal format or missing URL [petermeissner.de]\n",
            "\n",
            "Failed for keyword: 1580 influenza pandemic - URL using bad/illegal format or missing URL [petermeissner.de]\n",
            "\n",
            "Failed for keyword: 2017–2018 United States flu season - URL using bad/illegal format or missing URL [petermeissner.de]\n",
            "\n",
            "Failed for keyword: 2007 Bernard Matthews H5N1 outbreak - URL using bad/illegal format or missing URL [petermeissner.de]\n",
            "\n",
            "Failed for keyword: 2006 H5N1 outbreak in India - URL using bad/illegal format or missing URL [petermeissner.de]\n",
            "\n",
            "Failed for keyword: 2008 H5N1 outbreak in West Bengal - URL using bad/illegal format or missing URL [petermeissner.de]\n",
            "\n",
            "Failed for keyword: 1977 Russian flu - URL using bad/illegal format or missing URL [petermeissner.de]\n",
            "\n",
            "Failed for keyword: 2007 Australian equine influenza outbreak - URL using bad/illegal format or missing URL [petermeissner.de]\n",
            "\n",
            "Failed for keyword: 2020–2023 H5N8 outbreak - URL using bad/illegal format or missing URL [petermeissner.de]\n",
            "\n",
            "Failed for keyword: 1510 influenza pandemic - URL using bad/illegal format or missing URL [petermeissner.de]\n",
            "\n",
            "Failed for keyword: 2009 swine flu pandemic - URL using bad/illegal format or missing URL [petermeissner.de]\n",
            "\n",
            "Failed for keyword: 1957–1958 influenza pandemic_y - URL using bad/illegal format or missing URL [petermeissner.de]\n",
            "\n",
            "Failed for keyword: Acute respiratory distress syndrome - URL using bad/illegal format or missing URL [petermeissner.de]\n",
            "\n",
            "Failed for keyword: Allergic bronchopulmonary aspergillosis - URL using bad/illegal format or missing URL [petermeissner.de]\n",
            "\n",
            "Failed for keyword: 2017 Central Luzon H5N6 outbreak - URL using bad/illegal format or missing URL [petermeissner.de]\n",
            "\n",
            "Failed for keyword: 1989–1990 flu epidemic in the United Kingdom - URL using bad/illegal format or missing URL [petermeissner.de]\n",
            "\n",
            "Failed for keyword: 1557 influenza pandemic - URL using bad/illegal format or missing URL [petermeissner.de]\n",
            "\n"
          ]
        },
        {
          "output_type": "stream",
          "name": "stdout",
          "text": [
            "       language article     date       views  keyword    \n",
            "1      en       influenza   2007-12-10   4153 Influenza  \n",
            "2      en       influenza   2007-12-11   4606 Influenza  \n",
            "3      en       influenza   2007-12-12   4396 Influenza  \n",
            "4      en       influenza   2007-12-13   3863 Influenza  \n",
            "5      en       influenza   2007-12-14   3365 Influenza  \n",
            "189549 en       soar_throat 2024-10-24      1 Soar throat\n",
            "189550 en       soar_throat 2024-10-29      2 Soar throat\n",
            "189551 en       soar_throat 2024-10-31      1 Soar throat\n",
            "189552 en       soar_throat 2024-11-21      1 Soar throat\n",
            "189553 en       soar_throat 2024-11-24      1 Soar throat\n",
            "\n",
            "... 189543 rows of data not shown"
          ]
        }
      ]
    },
    {
      "cell_type": "code",
      "source": [
        "library(dplyr)\n",
        "library(tidyr)\n",
        "\n",
        "combined_data <- do.call(rbind, results_list)\n",
        "\n",
        "# Add a column for the keyword (page name)\n",
        "combined_data$keyword <- rep(names(results_list), sapply(results_list, nrow))\n",
        "\n",
        "# Reshape data into wide format\n",
        "wide_data <- combined_data %>%\n",
        "  select(date, views, keyword) %>%\n",
        "  pivot_wider(names_from = keyword, values_from = views, values_fill = 0)\n",
        "\n",
        "# Preview the result\n",
        "print(wide_data)"
      ],
      "metadata": {
        "colab": {
          "base_uri": "https://localhost:8080/"
        },
        "id": "sFX7GRSk1c1H",
        "outputId": "8034ca15-8b07-42f6-d4fe-10b3a35e3a41"
      },
      "execution_count": null,
      "outputs": [
        {
          "output_type": "stream",
          "name": "stderr",
          "text": [
            "\n",
            "Attaching package: ‘dplyr’\n",
            "\n",
            "\n",
            "The following objects are masked from ‘package:stats’:\n",
            "\n",
            "    filter, lag\n",
            "\n",
            "\n",
            "The following objects are masked from ‘package:base’:\n",
            "\n",
            "    intersect, setdiff, setequal, union\n",
            "\n",
            "\n"
          ]
        },
        {
          "output_type": "stream",
          "name": "stdout",
          "text": [
            "\u001b[90m# A tibble: 6,202 × 33\u001b[39m\n",
            "   date       Influenza `1889–1890 pandemic` `Viral encephalitis` Antibody\n",
            "   \u001b[3m\u001b[90m<date>\u001b[39m\u001b[23m         \u001b[3m\u001b[90m<dbl>\u001b[39m\u001b[23m                \u001b[3m\u001b[90m<dbl>\u001b[39m\u001b[23m                \u001b[3m\u001b[90m<dbl>\u001b[39m\u001b[23m    \u001b[3m\u001b[90m<dbl>\u001b[39m\u001b[23m\n",
            "\u001b[90m 1\u001b[39m 2007-12-10      \u001b[4m4\u001b[24m153                    0                   21     \u001b[4m2\u001b[24m686\n",
            "\u001b[90m 2\u001b[39m 2007-12-11      \u001b[4m4\u001b[24m606                    0                   39     \u001b[4m2\u001b[24m631\n",
            "\u001b[90m 3\u001b[39m 2007-12-12      \u001b[4m4\u001b[24m396                    0                   24     \u001b[4m2\u001b[24m649\n",
            "\u001b[90m 4\u001b[39m 2007-12-13      \u001b[4m3\u001b[24m863                    0                   46     \u001b[4m2\u001b[24m587\n",
            "\u001b[90m 5\u001b[39m 2007-12-14      \u001b[4m3\u001b[24m365                    0                   28     \u001b[4m1\u001b[24m917\n",
            "\u001b[90m 6\u001b[39m 2007-12-15      \u001b[4m2\u001b[24m148                    0                   23     \u001b[4m1\u001b[24m074\n",
            "\u001b[90m 7\u001b[39m 2007-12-16      \u001b[4m2\u001b[24m540                    0                   27     \u001b[4m1\u001b[24m310\n",
            "\u001b[90m 8\u001b[39m 2007-12-17      \u001b[4m3\u001b[24m806                    0                   23     \u001b[4m1\u001b[24m981\n",
            "\u001b[90m 9\u001b[39m 2007-12-18      \u001b[4m3\u001b[24m680                    0                   19     \u001b[4m1\u001b[24m901\n",
            "\u001b[90m10\u001b[39m 2007-12-19      \u001b[4m3\u001b[24m654                    0                   30     \u001b[4m1\u001b[24m720\n",
            "\u001b[90m# ℹ 6,192 more rows\u001b[39m\n",
            "\u001b[90m# ℹ 28 more variables: `Acute bronchitis` <dbl>, Adamantane <dbl>,\u001b[39m\n",
            "\u001b[90m#   `Allergic rhinitis` <dbl>, `Antigenic shift` <dbl>, Aspirin <dbl>,\u001b[39m\n",
            "\u001b[90m#   Paracetamol <dbl>, `Spanish flu` <dbl>, Antigen <dbl>, Arrhythmia <dbl>,\u001b[39m\n",
            "\u001b[90m#   `Antiviral drug` <dbl>, `Antigenic drift` <dbl>,\u001b[39m\n",
            "\u001b[90m#   `Adenovirus infection` <dbl>, Amantadine <dbl>,\u001b[39m\n",
            "\u001b[90m#   `Aspiration pneumonia` <dbl>, `Antigenic variation` <dbl>, …\u001b[39m\n"
          ]
        }
      ]
    },
    {
      "cell_type": "code",
      "source": [
        "# Save the reshaped data to a CSV file\n",
        "write.csv(wide_data, file = \"pageviews_data.csv\", row.names = FALSE)\n",
        "\n",
        "# Print a message confirming the file save\n",
        "message(\"CSV file has been saved as 'pageviews_data.csv'.\")\n"
      ],
      "metadata": {
        "colab": {
          "base_uri": "https://localhost:8080/"
        },
        "id": "jfonXfBX1t0w",
        "outputId": "97a98c2e-0629-4513-bfc4-3865eb3ab34e"
      },
      "execution_count": null,
      "outputs": [
        {
          "output_type": "stream",
          "name": "stderr",
          "text": [
            "CSV file has been saved as 'pageviews_data.csv'.\n",
            "\n"
          ]
        }
      ]
    }
  ]
}